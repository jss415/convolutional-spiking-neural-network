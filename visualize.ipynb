{
  "nbformat": 4,
  "nbformat_minor": 0,
  "metadata": {
    "colab": {
      "name": "visualize.ipynb",
      "provenance": [],
      "collapsed_sections": []
    },
    "kernelspec": {
      "name": "python3",
      "display_name": "Python 3"
    },
    "language_info": {
      "name": "python"
    }
  },
  "cells": [
    {
      "cell_type": "code",
      "execution_count": null,
      "metadata": {
        "id": "M-RKycYmGIAB"
      },
      "outputs": [],
      "source": [
        "import torch\n",
        "import torch.nn as nn\n",
        "import torchvision\n",
        "import torchvision.transforms as transforms\n",
        "from torch.utils.data import DataLoader, sampler\n",
        "from skimage.filters import gaussian\n",
        "from skimage.util import random_noise\n",
        "import os\n",
        "import noises\n",
        "\n",
        "import matplotlib as mpl\n",
        "import matplotlib.pyplot as plt\n",
        "%matplotlib inline"
      ]
    },
    {
      "cell_type": "code",
      "source": [
        "data_path = './data/'\n",
        "\n",
        "train_dataset = torchvision.datasets.EMNIST(root=data_path, split=\"balanced\", train=True, download=True,\n",
        "                                            transform=torchvision.transforms.Compose([\n",
        "                                              lambda img: torchvision.transforms.functional.rotate(img, -90),\n",
        "                                              lambda img: torchvision.transforms.functional.hflip(img),\n",
        "                                              torchvision.transforms.ToTensor()\n",
        "                                            ]))\n",
        "\n",
        "train_dataloader = DataLoader(train_dataset, batch_size=1,\n",
        "                                  shuffle=False, num_workers=4)\n",
        "\n",
        "\n",
        "# Initialize a noise variable using the classes in noise.py (i.e noise = noises.AddGaussianBlur(5, 0.2)) to visualize with noise\n",
        "noise = None\n",
        "\n",
        "if noise:\n",
        "  train_dataset_with_noise = torchvision.datasets.EMNIST(root=data_path, split=\"balanced\", train=True, download=True,\n",
        "                                              transform=torchvision.transforms.Compose([\n",
        "                                                lambda img: torchvision.transforms.functional.rotate(img, -90),\n",
        "                                                lambda img: torchvision.transforms.functional.hflip(img),\n",
        "                                                torchvision.transforms.ToTensor(),\n",
        "                                                noise\n",
        "                                              ]))\n",
        "else:\n",
        "  train_dataset_with_noise = torchvision.datasets.EMNIST(root=data_path, split=\"balanced\", train=True, download=True,\n",
        "                                              transform=torchvision.transforms.Compose([\n",
        "                                                lambda img: torchvision.transforms.functional.rotate(img, -90),\n",
        "                                                lambda img: torchvision.transforms.functional.hflip(img),\n",
        "                                                torchvision.transforms.ToTensor()\n",
        "                                              ]))\n",
        "\n",
        "train_dataloader_with_noise = DataLoader(train_dataset_with_noise, batch_size=1,\n",
        "                                  shuffle=False, num_workers=4)\n",
        "\n",
        "#Plot first image with the desired label\n",
        "for data in train_dataloader:\n",
        "  if data[1].item() == 38:\n",
        "    print (f\"The label {data[1].item()}\")\n",
        "    sample_letter = data[0]\n",
        "    sample_letter = sample_letter.reshape(28, 28)\n",
        "    plt.imshow(sample_letter, cmap = 'binary')\n",
        "    plt.axis(\"off\")\n",
        "    plt.show()\n",
        "    break\n",
        "\n",
        "#Plot first image with the desired label (plus noise)\n",
        "for data in train_dataloader_with_noise:\n",
        "  if data[1].item() == 38:\n",
        "    print (f\"The label {data[1].item()}\")\n",
        "    sample_letter = data[0]\n",
        "    sample_letter = sample_letter.reshape(28, 28)\n",
        "    plt.imshow(sample_letter, cmap = 'binary')\n",
        "    plt.axis(\"off\")\n",
        "    plt.show()\n",
        "    break"
      ],
      "metadata": {
        "id": "lUdW_jMTGJWu"
      },
      "execution_count": null,
      "outputs": []
    }
  ]
}